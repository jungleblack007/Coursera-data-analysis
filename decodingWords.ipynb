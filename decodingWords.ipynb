{
 "cells": [
  {
   "cell_type": "code",
   "execution_count": 1,
   "metadata": {},
   "outputs": [],
   "source": [
    "import xml.etree.ElementTree as ET\n",
    "import pandas as pd\n",
    "import numpy as np"
   ]
  },
  {
   "cell_type": "code",
   "execution_count": 2,
   "metadata": {},
   "outputs": [],
   "source": [
    "tree = ET.parse('words.xml')\n",
    "root = tree.getroot()"
   ]
  },
  {
   "cell_type": "code",
   "execution_count": 3,
   "metadata": {},
   "outputs": [
    {
     "name": "stdout",
     "output_type": "stream",
     "text": [
      "           word                                              trans  \\\n",
      "0    philatelic                                               None   \n",
      "1          bulk  n. 体积，容量；大多数，大部分；大块\\nvt. 使扩大，使形成大量；使显得重要\\nn. (...   \n",
      "2       replica                                         n. 复制品，复制物   \n",
      "3  discontinued        v. 停止；中断（discontinue的过去分词）\\nadj. 停止使用的；不连续的   \n",
      "4     ingenious                           adj. 有独创性的；机灵的，精制的；心灵手巧的   \n",
      "\n",
      "            phonetic  \n",
      "0               None  \n",
      "1             [bʌlk]  \n",
      "2         ['replɪkə]  \n",
      "3  [,diskən'tinju:d]  \n",
      "4      [ɪn'dʒiːnɪəs]  \n"
     ]
    }
   ],
   "source": [
    "words = pd.DataFrame(columns = ['word','trans','phonetic'])\n",
    "for item in root:\n",
    "    df = pd.DataFrame({'word': item[0].text,\n",
    "                       'trans': item[1].text,\n",
    "                       'phonetic': item[2].text},\n",
    "                       index = item)\n",
    "    # print(df)\n",
    "    words = pd.concat([words, df], ignore_index = True)\n",
    "    words = words.drop_duplicates()\n",
    "print(words.head())"
   ]
  },
  {
   "cell_type": "code",
   "execution_count": 5,
   "metadata": {},
   "outputs": [],
   "source": [
    "words.to_excel('words.xlsx', sheet_name = '1')"
   ]
  },
  {
   "cell_type": "code",
   "execution_count": null,
   "metadata": {},
   "outputs": [],
   "source": []
  },
  {
   "cell_type": "code",
   "execution_count": null,
   "metadata": {},
   "outputs": [],
   "source": []
  },
  {
   "cell_type": "code",
   "execution_count": null,
   "metadata": {},
   "outputs": [],
   "source": []
  },
  {
   "cell_type": "code",
   "execution_count": null,
   "metadata": {},
   "outputs": [],
   "source": []
  },
  {
   "cell_type": "code",
   "execution_count": null,
   "metadata": {},
   "outputs": [],
   "source": []
  },
  {
   "cell_type": "code",
   "execution_count": null,
   "metadata": {},
   "outputs": [],
   "source": []
  },
  {
   "cell_type": "code",
   "execution_count": null,
   "metadata": {},
   "outputs": [],
   "source": []
  },
  {
   "cell_type": "code",
   "execution_count": null,
   "metadata": {},
   "outputs": [],
   "source": []
  },
  {
   "cell_type": "code",
   "execution_count": null,
   "metadata": {},
   "outputs": [],
   "source": []
  },
  {
   "cell_type": "code",
   "execution_count": null,
   "metadata": {},
   "outputs": [],
   "source": []
  },
  {
   "cell_type": "code",
   "execution_count": null,
   "metadata": {},
   "outputs": [],
   "source": []
  },
  {
   "cell_type": "code",
   "execution_count": null,
   "metadata": {},
   "outputs": [],
   "source": []
  }
 ],
 "metadata": {
  "kernelspec": {
   "display_name": "Python 3",
   "language": "python",
   "name": "python3"
  },
  "language_info": {
   "codemirror_mode": {
    "name": "ipython",
    "version": 3
   },
   "file_extension": ".py",
   "mimetype": "text/x-python",
   "name": "python",
   "nbconvert_exporter": "python",
   "pygments_lexer": "ipython3",
   "version": "3.6.7"
  }
 },
 "nbformat": 4,
 "nbformat_minor": 2
}
